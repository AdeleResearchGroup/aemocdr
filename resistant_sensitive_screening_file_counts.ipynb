{
 "cells": [
  {
   "cell_type": "code",
   "execution_count": 4,
   "id": "c0490ba0-ab6b-493b-9699-bb44f9f01d48",
   "metadata": {},
   "outputs": [
    {
     "name": "stdout",
     "output_type": "stream",
     "text": [
      "CTRP-GDSC dataset: screening file (drug_screening_matrix_gdsc_ctrp.tsv)\n",
      "Nombre de -1 (sensitive) : 10057\n",
      "Nombre de 0 (not tested / unknown) : 931687\n",
      "Nombre de 1 (resistant) : 18776\n"
     ]
    }
   ],
   "source": [
    "import pandas as pd\n",
    "\n",
    "# Charger le fichier .tsv\n",
    "file_path = \"CTRP_GDSC_data/CTRP_GDSC_data/drug_screening_matrix_gdsc_ctrp.tsv\"\n",
    "df = pd.read_csv(file_path, sep='\\t', index_col=0)\n",
    "\n",
    "# Compter les occurrences de chaque valeur dans toute la matrice\n",
    "value_counts = df.stack().value_counts()  # .stack() pour transformer en Series à 1D\n",
    "\n",
    "# Print results\n",
    "print(\"CTRP-GDSC dataset: screening file (drug_screening_matrix_gdsc_ctrp.tsv)\")\n",
    "print(\"Nombre de -1 (sensitive) :\", value_counts.get(-1, 0))\n",
    "print(\"Nombre de 0 (not tested / unknown) :\", value_counts.get(0, 0))\n",
    "print(\"Nombre de 1 (resistant) :\", value_counts.get(1, 0))\n"
   ]
  },
  {
   "cell_type": "code",
   "execution_count": 5,
   "id": "40095874-24fa-4725-be6e-e58ac82e0722",
   "metadata": {},
   "outputs": [
    {
     "name": "stdout",
     "output_type": "stream",
     "text": [
      "CCLE dataset: screening file (drug_screening_matrix_ccle.tsv)\n",
      "Nombre de -1 (sensitive) : 2956\n",
      "Nombre de 0 (not tested / unknown) : 4922\n",
      "Nombre de 1 (resistant) : 3792\n"
     ]
    }
   ],
   "source": [
    "# Charger le fichier .tsv\n",
    "file_path = \"CCLE_data/CCLE_data/drug_screening_matrix_ccle.tsv\"\n",
    "df = pd.read_csv(file_path, sep='\\t', index_col=0)\n",
    "\n",
    "# Compter les occurrences de chaque valeur dans toute la matrice\n",
    "value_counts = df.stack().value_counts()  # .stack() pour transformer en Series à 1D\n",
    "\n",
    "# Print results\n",
    "print(\"CCLE dataset: screening file (drug_screening_matrix_ccle.tsv)\")\n",
    "print(\"Nombre de -1 (sensitive) :\", value_counts.get(-1, 0))\n",
    "print(\"Nombre de 0 (not tested / unknown) :\", value_counts.get(0, 0))\n",
    "print(\"Nombre de 1 (resistant) :\", value_counts.get(1, 0))"
   ]
  },
  {
   "cell_type": "code",
   "execution_count": null,
   "id": "23112334-4486-477c-a80e-b2d0d1d421fc",
   "metadata": {},
   "outputs": [],
   "source": []
  }
 ],
 "metadata": {
  "kernelspec": {
   "display_name": "Python 3 (ipykernel)",
   "language": "python",
   "name": "python3"
  },
  "language_info": {
   "codemirror_mode": {
    "name": "ipython",
    "version": 3
   },
   "file_extension": ".py",
   "mimetype": "text/x-python",
   "name": "python",
   "nbconvert_exporter": "python",
   "pygments_lexer": "ipython3",
   "version": "3.10.2"
  }
 },
 "nbformat": 4,
 "nbformat_minor": 5
}
