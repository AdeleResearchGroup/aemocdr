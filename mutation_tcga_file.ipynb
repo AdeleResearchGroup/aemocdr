{
 "cells": [
  {
   "cell_type": "code",
   "execution_count": 1,
   "id": "962524fc-ee09-4daa-bec8-04e54dfc74ab",
   "metadata": {},
   "outputs": [
    {
     "name": "stdout",
     "output_type": "stream",
     "text": [
      "Nombre de fichiers MAF trouvés : 675\n"
     ]
    }
   ],
   "source": [
    "import os\n",
    "import pandas as pd\n",
    "\n",
    "# Tous les fichiers dans le dossier téléchargé\n",
    "directory = \"C:/Users/camil/IMAG/DeepDRA/GDC\"\n",
    "\n",
    "# Liste tous les fichiers .maf.gz dans tous les sous-dossiers\n",
    "maf_files = [\n",
    "    os.path.join(root, file)\n",
    "    for root, dirs, files in os.walk(directory)\n",
    "    for file in files\n",
    "    if file.endswith(\".maf.gz\")\n",
    "]\n",
    "\n",
    "print(f\"Nombre de fichiers MAF trouvés : {len(maf_files)}\")\n"
   ]
  },
  {
   "cell_type": "code",
   "execution_count": 2,
   "id": "b4a18047-9121-4e02-bbd5-ef80a7b40750",
   "metadata": {},
   "outputs": [
    {
     "name": "stdout",
     "output_type": "stream",
     "text": [
      " 671 fichiers fusionnés.\n",
      " 0 fichiers ignorés.\n",
      " Shape finale du DataFrame : (137368, 140)\n"
     ]
    }
   ],
   "source": [
    "# Charger tous les MAF dans une seule liste de DataFrames\n",
    "dfs = []\n",
    "failed_files = []\n",
    "\n",
    "for f in maf_files:\n",
    "    try:\n",
    "        df = pd.read_csv(f, sep=\"\\t\", comment=\"#\", low_memory=False)\n",
    "        if not df.empty:\n",
    "            dfs.append(df)\n",
    "    except Exception as e:\n",
    "        print(f\"Erreur avec le fichier : {f}\\n→ {e}\")\n",
    "        failed_files.append(f)\n",
    "\n",
    "df_all = pd.concat(dfs, ignore_index=True)\n",
    "\n",
    "print(f\" {len(dfs)} fichiers fusionnés.\")\n",
    "print(f\" {len(failed_files)} fichiers ignorés.\")\n",
    "print(f\" Shape finale du DataFrame : {df_all.shape}\")"
   ]
  },
  {
   "cell_type": "code",
   "execution_count": 3,
   "id": "acc9f9f0-66b6-4fab-8ddb-d531bc3d9ad6",
   "metadata": {},
   "outputs": [],
   "source": [
    "# Charger la table de correspondance\n",
    "id_map = pd.read_csv(\"tcga_ids_mapping.tsv\", sep=\"\\t\")\n",
    "\n",
    "# Fusionner avec df_all sur la colonne 'case_id'\n",
    "df_all = df_all.merge(id_map, on=\"case_id\", how=\"left\")"
   ]
  },
  {
   "cell_type": "code",
   "execution_count": 4,
   "id": "a0431ae2-735f-458b-8e08-cc9bd916c253",
   "metadata": {},
   "outputs": [],
   "source": [
    "# Supprimer les colonnes\n",
    "df_all_filtered = df_all.drop(columns=[\"Center\", \"NCBI_Build\", 'dbSNP_RS', 'dbSNP_Val_Status', 'Match_Norm_Seq_Allele1', 'Match_Norm_Seq_Allele2', 'Tumor_Validation_Allele1', 'Tumor_Validation_Allele2', 'Match_Norm_Validation_Allele1', 'Match_Norm_Validation_Allele2', 'Verification_Status', 'Validation_Status', 'Sequencing_Phase', 'Sequence_Source', 'Validation_Method', 'Score', 'BAM_File', 'Sequencer', 'n_ref_count', 'n_alt_count', 'DISTANCE', 'SYMBOL_SOURCE', 'TREMBL', 'FLAGS', 'INTRON', '1000G_AF', '1000G_AFR_AF', '1000G_AMR_AF', '1000G_EAS_AF', '1000G_EUR_AF', '1000G_SAS_AF', 'ESP_AA_AF', 'ESP_EA_AF', 'gnomAD_AF', 'gnomAD_AFR_AF', 'gnomAD_AMR_AF', 'gnomAD_ASJ_AF', 'gnomAD_EAS_AF', 'gnomAD_FIN_AF', 'gnomAD_NFE_AF', 'gnomAD_OTH_AF', 'gnomAD_SAS_AF', 'MAX_AF', 'MAX_AF_POPS', 'gnomAD_non_cancer_AF', 'gnomAD_non_cancer_AFR_AF', 'gnomAD_non_cancer_AMI_AF', 'gnomAD_non_cancer_AMR_AF', 'gnomAD_non_cancer_ASJ_AF', 'gnomAD_non_cancer_EAS_AF', 'gnomAD_non_cancer_FIN_AF', 'gnomAD_non_cancer_MID_AF', 'gnomAD_non_cancer_NFE_AF', 'gnomAD_non_cancer_OTH_AF', 'gnomAD_non_cancer_SAS_AF', 'gnomAD_non_cancer_MAX_AF_adj', 'gnomAD_non_cancer_MAX_AF_POPS_adj', 'PUBMED', 'TRANSCRIPTION_FACTORS', 'MOTIF_NAME', 'MOTIF_POS', 'HIGH_INF_POS', 'MOTIF_SCORE_CHANGE', 'miRNA', 'HGVS_OFFSET', 'case_id', 'GDC_FILTER', 'RNA_Support', 'RNA_depth', 'RNA_ref_count', 'RNA_alt_count'])"
   ]
  },
  {
   "cell_type": "code",
   "execution_count": 5,
   "id": "9d2bad79-3cad-4a5e-acc1-fff49f9b122f",
   "metadata": {},
   "outputs": [
    {
     "data": {
      "text/plain": [
       "(137368, 70)"
      ]
     },
     "execution_count": 5,
     "metadata": {},
     "output_type": "execute_result"
    }
   ],
   "source": [
    "df_all_filtered.shape"
   ]
  },
  {
   "cell_type": "code",
   "execution_count": null,
   "id": "99a39ed7-03ac-4fb2-9ca7-b94eddcc8799",
   "metadata": {},
   "outputs": [],
   "source": [
    "# Charger la liste des gènes d'intérêt à partir de TCGA_mutation_gene_list.csv\n",
    "gene_list_df = pd.read_csv(\"TCGA_mutation_gene_list.csv\")\n",
    "\n",
    "# Lire les gènes depuis une ligne unique sans en-tête\n",
    "gene_list_df = pd.read_csv(\"TCGA_mutation_gene_list.csv\", header=None)\n",
    "\n",
    "# Extraire la première ligne sous forme de liste de gènes\n",
    "gene_list = set(gene_list_df.iloc[0].values)\n",
    "\n",
    "# Extraire les gènes uniques du DataFrame MAF filtré\n",
    "df_genes = set(df_all_filtered['Hugo_Symbol'].unique())\n",
    "\n",
    "# Intersection : gènes en commun\n",
    "matching_genes = df_genes.intersection(gene_list)"
   ]
  },
  {
   "cell_type": "code",
   "execution_count": 8,
   "id": "626f12b5-1ff0-4747-934e-73edc5756682",
   "metadata": {},
   "outputs": [
    {
     "name": "stdout",
     "output_type": "stream",
     "text": [
      " Nombre de gènes uniques dans le MAF : 17798\n",
      " Nombre de gènes dans la liste de référence : 19100\n",
      " Nombre de gènes en commun : 15458\n"
     ]
    }
   ],
   "source": [
    "# Affichage des résultats\n",
    "print(f\" Nombre de gènes uniques dans le MAF : {len(df_genes)}\")\n",
    "print(f\" Nombre de gènes dans la liste de référence : {len(gene_list)}\")\n",
    "print(f\" Nombre de gènes en commun : {len(matching_genes)}\")"
   ]
  },
  {
   "cell_type": "code",
   "execution_count": 9,
   "id": "e51d2efc-d365-457b-9866-70278d8b5cac",
   "metadata": {},
   "outputs": [
    {
     "name": "stdout",
     "output_type": "stream",
     "text": [
      " Nombre de mutations conservées après filtrage : 124534\n",
      " Nombre de gènes uniques dans ce sous-ensemble : 15458\n"
     ]
    }
   ],
   "source": [
    "# Filtrer le DataFrame pour ne garder que les lignes dont le gène est dans la liste des gènes communs\n",
    "df_all_filtered = df_all_filtered[df_all_filtered['Hugo_Symbol'].isin(matching_genes)]\n",
    "\n",
    "# Afficher le résultat\n",
    "print(f\" Nombre de mutations conservées après filtrage : {df_all_filtered.shape[0]}\")\n",
    "print(f\" Nombre de gènes uniques dans ce sous-ensemble : {df_all_filtered['Hugo_Symbol'].nunique()}\")\n"
   ]
  },
  {
   "cell_type": "code",
   "execution_count": 10,
   "id": "0c51615c-22ee-4a3d-9e53-2c1c63663eca",
   "metadata": {},
   "outputs": [
    {
     "name": "stdout",
     "output_type": "stream",
     "text": [
      " Nombre de mutations après exclusion des 'Silent' : 95706\n"
     ]
    }
   ],
   "source": [
    "# Supprimer les mutations silencieuses\n",
    "df_all_filtered = df_all_filtered[df_all_filtered[\"Variant_Classification\"] != \"Silent\"]\n",
    "\n",
    "print(f\" Nombre de mutations après exclusion des 'Silent' : {df_all_filtered.shape[0]}\")"
   ]
  },
  {
   "cell_type": "code",
   "execution_count": 11,
   "id": "2fc2a62d-33c4-45c1-856f-73440c4b31cc",
   "metadata": {},
   "outputs": [
    {
     "data": {
      "text/plain": [
       "(95706, 70)"
      ]
     },
     "execution_count": 11,
     "metadata": {},
     "output_type": "execute_result"
    }
   ],
   "source": [
    "df_all_filtered.shape\n"
   ]
  },
  {
   "cell_type": "code",
   "execution_count": 12,
   "id": "a51e04f3-b971-4b9c-afbe-bafbf45025ab",
   "metadata": {},
   "outputs": [
    {
     "name": "stdout",
     "output_type": "stream",
     "text": [
      " Matrice binaire créée. Shape: (664, 15009)\n"
     ]
    }
   ],
   "source": [
    "# Créer la matrice binaire (patients x gènes)\n",
    "# Chaque ligne = un patient (entity_submitter_id), chaque colonne = un gène\n",
    "binary_matrix = (\n",
    "    df_all_filtered.groupby([\"entity_submitter_id\", \"Hugo_Symbol\"])\n",
    "    .size()  # compte le nombre de mutations par couple\n",
    "    .unstack(fill_value=0)  # transforme en table avec 0 pour les absents\n",
    ")\n",
    "\n",
    "# Binariser : 1 si au moins une mutation dans le gène, sinon 0\n",
    "binary_matrix = (binary_matrix > 0).astype(int)\n",
    "\n",
    "# Renommer les colonnes avec suffixe '_cell_mut'\n",
    "binary_matrix.columns = [f\"{gene}_cell_mut\" for gene in binary_matrix.columns]\n",
    "\n",
    "print(f\" Matrice binaire créée. Shape: {binary_matrix.shape}\")"
   ]
  },
  {
   "cell_type": "code",
   "execution_count": 13,
   "id": "c9b02136-d6af-4ea8-b461-591aa64c6c97",
   "metadata": {},
   "outputs": [],
   "source": [
    "# Sauvegarder en TSV\n",
    "output_path = \"C:/Users/camil/IMAG/DeepDRA/TCGA_data/TCGA_data/cell_mut_raw.tsv\"\n",
    "binary_matrix.to_csv(output_path, sep=\"\\t\")\n"
   ]
  }
 ],
 "metadata": {
  "kernelspec": {
   "display_name": "Python 3 (ipykernel)",
   "language": "python",
   "name": "python3"
  },
  "language_info": {
   "codemirror_mode": {
    "name": "ipython",
    "version": 3
   },
   "file_extension": ".py",
   "mimetype": "text/x-python",
   "name": "python",
   "nbconvert_exporter": "python",
   "pygments_lexer": "ipython3",
   "version": "3.10.2"
  }
 },
 "nbformat": 4,
 "nbformat_minor": 5
}
