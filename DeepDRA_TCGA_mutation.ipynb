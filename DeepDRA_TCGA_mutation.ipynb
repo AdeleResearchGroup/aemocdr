{
 "cells": [
  {
   "cell_type": "code",
   "execution_count": 1,
   "id": "8f68ecc5-261f-4e87-98db-34302623867b",
   "metadata": {},
   "outputs": [
    {
     "name": "stdout",
     "output_type": "stream",
     "text": [
      "{\n",
      "  \"data_format\": \"BCR XML\",\n",
      "  \"access\": \"open\",\n",
      "  \"associated_entities\": [\n",
      "    {\n",
      "      \"entity_submitter_id\": \"TCGA-S3-A6ZH\",\n",
      "      \"entity_type\": \"case\",\n",
      "      \"case_id\": \"ec461eaf-f5cb-4225-a9a0-59d8e6c17ea6\",\n",
      "      \"entity_id\": \"ec461eaf-f5cb-4225-a9a0-59d8e6c17ea6\"\n",
      "    }\n",
      "  ],\n",
      "  \"file_name\": \"nationwidechildrens.org_biospecimen.TCGA-S3-A6ZH.xml\",\n",
      "  \"md5sum\": \"d59fd59d5038db6fe3eff5cdbb18e61f\",\n",
      "  \"file_id\": \"44612b57-514a-4681-a7d3-e32dd07cf1f5\",\n",
      "  \"data_type\": \"Biospecimen Supplement\",\n",
      "  \"submitter_id\": \"nationwidechildrens.org_biospecimen.TCGA-S3-A6ZH.xml\",\n",
      "  \"data_category\": \"Biospecimen\",\n",
      "  \"state\": \"released\",\n",
      "  \"file_size\": 53964\n",
      "}\n"
     ]
    }
   ],
   "source": [
    "import json\n",
    "import pandas as pd\n",
    "\n",
    "# Load JSON file\n",
    "with open(\"C:/Users/camil/IMAG/DeepDRA/metadata.cohort.2025-06-12.json\", \"r\", encoding=\"utf-8\") as file:\n",
    "    data = json.load(file)\n",
    "\n",
    "print(json.dumps(data[0], indent=2))"
   ]
  },
  {
   "cell_type": "code",
   "execution_count": 2,
   "id": "7ddcc2e4-2116-4ea6-8d3b-a9e55f54d958",
   "metadata": {},
   "outputs": [
    {
     "name": "stdout",
     "output_type": "stream",
     "text": [
      "Nombre d'entrées extraites : 242418\n"
     ]
    }
   ],
   "source": [
    "# Extraire les paires 'entity_submitter_id' et 'case_id'\n",
    "rows = []\n",
    "\n",
    "for entry in data:\n",
    "    entities = entry.get(\"associated_entities\", [])\n",
    "    for entity in entities:\n",
    "        submitter_id = entity.get(\"entity_submitter_id\")\n",
    "        case_id = entity.get(\"case_id\")\n",
    "        if submitter_id and case_id:\n",
    "            rows.append({\"entity_submitter_id\": submitter_id, \"case_id\": case_id})\n",
    "\n",
    "# Créer un DataFrame\n",
    "df = pd.DataFrame(rows)\n",
    "\n",
    "# Vérification\n",
    "print(f\"Nombre d'entrées extraites : {len(df)}\")"
   ]
  },
  {
   "cell_type": "code",
   "execution_count": 3,
   "id": "b532a8fd-6fc2-4e97-b514-0e8efcf3b348",
   "metadata": {},
   "outputs": [
    {
     "name": "stdout",
     "output_type": "stream",
     "text": [
      "Nombre d'entrées extraites : 10013\n"
     ]
    }
   ],
   "source": [
    "# supprimer les doublons sur 'entity_submitter_id' (garder la première occurrence)\n",
    "df = df.drop_duplicates(subset='entity_submitter_id', keep='first')\n",
    "\n",
    "# supprimer les doublons sur 'case_id' dans le DataFrame restant\n",
    "df = df.drop_duplicates(subset='case_id', keep='first')\n",
    "\n",
    "# Vérification\n",
    "print(f\"Nombre d'entrées extraites : {len(df)}\")"
   ]
  },
  {
   "cell_type": "code",
   "execution_count": 4,
   "id": "49cdd299-ed1a-4993-bad5-b8f447c6e16f",
   "metadata": {},
   "outputs": [
    {
     "name": "stdout",
     "output_type": "stream",
     "text": [
      "Nombre d'entrées extraites : 10013\n"
     ]
    }
   ],
   "source": [
    "# Only keep the 12 first characters of the entity_submitter_id\n",
    "df[\"entity_submitter_id\"] = df[\"entity_submitter_id\"].str[:12]\n",
    "\n",
    "# Vérification\n",
    "print(f\"Nombre d'entrées extraites : {len(df)}\")"
   ]
  },
  {
   "cell_type": "code",
   "execution_count": 5,
   "id": "ac746697-6771-4772-9599-727d3652edff",
   "metadata": {},
   "outputs": [
    {
     "name": "stdout",
     "output_type": "stream",
     "text": [
      "Nombre d'IDs communs : 714\n"
     ]
    }
   ],
   "source": [
    "# Charger le fichier CSV contenant les TCGA_ID\n",
    "tcga_ids = pd.read_csv(\"TCGA_IDs.csv\")\n",
    "\n",
    "# Trouver les IDs communs\n",
    "common_ids = set(tcga_ids[\"TCGA_ID\"]) & set(df[\"entity_submitter_id\"])\n",
    "\n",
    "# Compter combien d’IDs sont communs\n",
    "print(f\"Nombre d'IDs communs : {len(common_ids)}\")\n"
   ]
  },
  {
   "cell_type": "code",
   "execution_count": 6,
   "id": "354331af-d46f-409f-8c5a-fbd03318f5c9",
   "metadata": {},
   "outputs": [
    {
     "name": "stdout",
     "output_type": "stream",
     "text": [
      "df filtré : 714 lignes\n"
     ]
    }
   ],
   "source": [
    "df = df[df[\"entity_submitter_id\"].isin(common_ids)]\n",
    "print(f\"df filtré : {df.shape[0]} lignes\")  # devrait afficher 714\n",
    "\n",
    "# Sauvegarder au format TSV\n",
    "df.to_csv(\"C:/Users/camil/IMAG/DeepDRA/tcga_ids_mapping.tsv\", sep=\"\\t\", index=False)"
   ]
  }
 ],
 "metadata": {
  "kernelspec": {
   "display_name": "Python 3 (ipykernel)",
   "language": "python",
   "name": "python3"
  },
  "language_info": {
   "codemirror_mode": {
    "name": "ipython",
    "version": 3
   },
   "file_extension": ".py",
   "mimetype": "text/x-python",
   "name": "python",
   "nbconvert_exporter": "python",
   "pygments_lexer": "ipython3",
   "version": "3.10.2"
  }
 },
 "nbformat": 4,
 "nbformat_minor": 5
}
