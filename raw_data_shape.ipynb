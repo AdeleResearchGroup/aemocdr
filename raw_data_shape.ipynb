{
 "cells": [
  {
   "cell_type": "code",
   "execution_count": 1,
   "id": "6c652bdb-7e5f-498f-b97e-dae8f04a2edd",
   "metadata": {},
   "outputs": [],
   "source": [
    "import pandas as pd"
   ]
  },
  {
   "cell_type": "markdown",
   "id": "dc46cc7e-8d74-485f-a2fc-51712e8d8867",
   "metadata": {},
   "source": [
    "**GDSC DATASET**"
   ]
  },
  {
   "cell_type": "code",
   "execution_count": 2,
   "id": "b845df89-5d7a-4f84-a2f0-8885bdcf9e32",
   "metadata": {},
   "outputs": [
    {
     "name": "stdout",
     "output_type": "stream",
     "text": [
      "(986, 24503)\n"
     ]
    }
   ],
   "source": [
    "# CN\n",
    "\n",
    "cell_CN_raw_GDSC = pd.read_csv('data/GDSC_data/cell_CN_raw.tsv', sep = '\\t')\n",
    "print(cell_CN_raw_GDSC.shape)"
   ]
  },
  {
   "cell_type": "code",
   "execution_count": 3,
   "id": "ad134f5b-3312-4d8a-b630-a6a71840a09c",
   "metadata": {},
   "outputs": [
    {
     "name": "stdout",
     "output_type": "stream",
     "text": [
      "(1018, 17738)\n"
     ]
    }
   ],
   "source": [
    "# RNAseq\n",
    "\n",
    "cell_exp_raw_GDSC = pd.read_csv('data/GDSC_data/cell_exp_raw.tsv', sep = '\\t')\n",
    "print(cell_exp_raw_GDSC.shape)"
   ]
  },
  {
   "cell_type": "code",
   "execution_count": 4,
   "id": "7f9aed0c-ab6b-4006-b587-9d8607d2dc6c",
   "metadata": {},
   "outputs": [
    {
     "name": "stdout",
     "output_type": "stream",
     "text": [
      "(967, 23190)\n",
      "Nombre total de '1' dans toute la matrice mutation GDSC : 2800627\n"
     ]
    }
   ],
   "source": [
    "# Mutation\n",
    "\n",
    "cell_mut_raw_GDSC = pd.read_csv('data/GDSC_data/cell_mut_raw.tsv', sep = '\\t')\n",
    "print(cell_mut_raw_GDSC.shape)\n",
    "\n",
    "# Compter le nombre total de '1' dans toute la matrice\n",
    "total_ones = (cell_mut_raw_GDSC == 1).sum().sum()\n",
    "\n",
    "print(f\"Nombre total de '1' dans toute la matrice mutation GDSC : {total_ones}\")"
   ]
  },
  {
   "cell_type": "code",
   "execution_count": 5,
   "id": "f6f73f24-b655-4d49-93a4-917fa93da007",
   "metadata": {},
   "outputs": [
    {
     "name": "stdout",
     "output_type": "stream",
     "text": [
      "(1029, 14727)\n"
     ]
    }
   ],
   "source": [
    "# Methylation\n",
    "\n",
    "cell_exp_raw_GDSC = pd.read_csv('data/GDSC_data/cell_methy_raw.tsv', sep = '\\t')\n",
    "print(cell_exp_raw_GDSC.shape)\n",
    "#print(cell_exp_raw_GDSC.head())"
   ]
  },
  {
   "cell_type": "code",
   "execution_count": 6,
   "id": "9a7a1727-c27f-40c3-b19b-fac3425610de",
   "metadata": {},
   "outputs": [
    {
     "name": "stdout",
     "output_type": "stream",
     "text": [
      "(969, 287)\n"
     ]
    }
   ],
   "source": [
    "# Drug matrix\n",
    "\n",
    "drug_screening_matrix_GDSC = pd.read_csv('data/GDSC_data/drug_screening_matrix_GDSC.tsv', sep = '\\t')\n",
    "print(drug_screening_matrix_GDSC.shape)\n",
    "#print(drug_screening_matrix_GDSC.head())"
   ]
  },
  {
   "cell_type": "code",
   "execution_count": 7,
   "id": "e9fd14ae-26e8-44ba-af2c-aaa9b7c347c1",
   "metadata": {},
   "outputs": [
    {
     "name": "stdout",
     "output_type": "stream",
     "text": [
      "(235748, 3)\n",
      "  COMPOUND_NAME CELL_LINE_NAME  Resistency/Sensitivity\n",
      "0        123138          22RV1                       0\n",
      "1        123138       23132-87                       0\n",
      "2        123138       42-MG-BA                       0\n",
      "3        123138           5637                       0\n",
      "4        123138          639-V                       0\n"
     ]
    }
   ],
   "source": [
    "# Drug table (resistance / sensitivity)\n",
    "\n",
    "drug_screening_table_GDSC = pd.read_csv('data/GDSC_data/drug_screening_table_GDSC.tsv', sep = '\\t')\n",
    "print(drug_screening_table_GDSC.shape)\n",
    "print(drug_screening_table_GDSC.head())"
   ]
  },
  {
   "cell_type": "markdown",
   "id": "aa8d36d2-ff33-466c-ace7-61c1a2614cfb",
   "metadata": {},
   "source": [
    "**CTRP DATASET**"
   ]
  },
  {
   "cell_type": "code",
   "execution_count": 8,
   "id": "518f88a7-b4e8-4f89-87c7-8dcabc5a85f7",
   "metadata": {},
   "outputs": [
    {
     "name": "stdout",
     "output_type": "stream",
     "text": [
      "(887, 497)\n"
     ]
    }
   ],
   "source": [
    "# Drug matrix\n",
    "\n",
    "drug_screening_matrix_CTRP = pd.read_csv('data/CTRP_data/drug_screening_matrix_ctrp.tsv', sep = '\\t')\n",
    "print(drug_screening_matrix_CTRP.shape)\n",
    "#print(drug_screening_matrix_CTRP.head())"
   ]
  },
  {
   "cell_type": "code",
   "execution_count": 9,
   "id": "a418192d-627a-47de-a5e6-8dcece00e324",
   "metadata": {},
   "outputs": [
    {
     "name": "stdout",
     "output_type": "stream",
     "text": [
      "(395229, 4)\n",
      "   Unnamed: 0 CELL_LINE_NAME   COMPOUND_NAME  Resistances/Sensitivity\n",
      "0           0           CAS1           CIL55                   14.782\n",
      "1           1           CAS1         BRD4132                   13.327\n",
      "2           2           CAS1         BRD6340                   16.082\n",
      "3           3           CAS1         BRD9876                   13.743\n",
      "4           4           CAS1  betulinic acid                   13.390\n"
     ]
    }
   ],
   "source": [
    "# Drug table\n",
    "drug_screening_matrix_CTRP_AUC = pd.read_csv('data/CTRP_data/drug_screening_matrix_ctrp_auc.tsv', sep = '\\t')\n",
    "print(drug_screening_matrix_CTRP_AUC.shape)\n",
    "print(drug_screening_matrix_CTRP_AUC.head())"
   ]
  },
  {
   "cell_type": "markdown",
   "id": "a54b8173-b933-406d-a656-ab88f2b025f7",
   "metadata": {},
   "source": [
    "**CTRP_GDSC DATASET**"
   ]
  },
  {
   "cell_type": "code",
   "execution_count": 10,
   "id": "be108bdb-fb77-4e77-b4e6-548f06cd9f9d",
   "metadata": {},
   "outputs": [
    {
     "name": "stdout",
     "output_type": "stream",
     "text": [
      "(1816, 23875)\n"
     ]
    }
   ],
   "source": [
    "# CN\n",
    "\n",
    "cell_CN_raw_CTRP_GDSC = pd.read_csv('data/CTRP_GDSC_data/cell_CN_raw.tsv', sep = '\\t')\n",
    "print(cell_CN_raw_CTRP_GDSC.shape)"
   ]
  },
  {
   "cell_type": "code",
   "execution_count": 11,
   "id": "58239035-e53d-4936-b2d2-fda941a42faa",
   "metadata": {},
   "outputs": [
    {
     "name": "stdout",
     "output_type": "stream",
     "text": [
      "(1406, 19222)\n",
      "  cell_line_name    TSPAN6      TNMD      DPM1     SCYL3  C1orf112       FGR  \\\n",
      "0     LC-1/sq-SF  4.331992  0.000000  7.364397  2.792855  4.470537  0.028569   \n",
      "1     COG-AR-359  4.566815  0.584963  7.106537  2.543496  3.504620  0.000000   \n",
      "2       Colo 794  3.150560  0.000000  7.379032  2.333424  4.227279  0.056584   \n",
      "3        KKU-213  5.085340  0.000000  7.154109  2.545968  3.084064  0.000000   \n",
      "4            RT4  6.729145  0.000000  6.537607  2.456806  3.867896  0.799087   \n",
      "\n",
      "        CFH     FUCA2      GCLC  ...      H3C2      H3C3  AC098582.1  \\\n",
      "0  1.226509  3.042644  6.499686  ...  2.689299  0.189034    0.201634   \n",
      "1  0.189034  3.813525  4.221104  ...  1.286881  1.049631    0.321928   \n",
      "2  1.310340  6.687061  3.682573  ...  0.594549  1.097611    0.831877   \n",
      "3  5.868143  6.165309  4.489928  ...  0.214125  0.632268    0.298658   \n",
      "4  7.208381  5.569856  7.127014  ...  1.117695  2.358959    0.084064   \n",
      "\n",
      "   DUS4L-BCAP29  C8orf44-SGK3  ELOA3B    NPBWR1  ELOA3D  ELOA3      CDR1  \n",
      "0      2.130931      0.555816     0.0  0.275007     0.0    0.0  0.000000  \n",
      "1      1.464668      0.632268     0.0  0.014355     0.0    0.0  0.000000  \n",
      "2      2.946731      0.475085     0.0  0.084064     0.0    0.0  0.042644  \n",
      "3      1.641546      0.443607     0.0  0.028569     0.0    0.0  0.000000  \n",
      "4      1.910733      0.000000     0.0  0.464668     0.0    0.0  0.000000  \n",
      "\n",
      "[5 rows x 19222 columns]\n",
      "          TSPAN6     TNMD      DPM1     SCYL3  C1orf112       FGR       CFH  \\\n",
      "min     0.000000  0.00000  3.654206  0.594549  0.056584  0.000000  0.000000   \n",
      "max     8.131857  5.25134  9.175100  4.746850  5.972233  8.012010  9.691813   \n",
      "median  3.804776  0.00000  6.479295  2.334854  3.742005  0.042644  1.226509   \n",
      "\n",
      "           FUCA2      GCLC      NFYA  ...      H3C2      H3C3  AC098582.1  \\\n",
      "min     0.000000  1.195348  0.815575  ...  0.000000  0.000000    0.000000   \n",
      "max     8.633032  9.581784  7.433711  ...  5.172327  4.894333    3.109361   \n",
      "median  5.678635  4.522621  4.016139  ...  0.948601  0.575312    0.400538   \n",
      "\n",
      "        DUS4L-BCAP29  C8orf44-SGK3   ELOA3B    NPBWR1    ELOA3D     ELOA3  \\\n",
      "min         0.263034      0.000000  0.00000  0.000000  0.000000  0.000000   \n",
      "max         4.430954      2.241840  0.62293  4.254745  0.992768  1.056584   \n",
      "median      2.032101      0.298658  0.00000  0.014355  0.000000  0.000000   \n",
      "\n",
      "            CDR1  \n",
      "min     0.000000  \n",
      "max     1.565597  \n",
      "median  0.000000  \n",
      "\n",
      "[3 rows x 19221 columns]\n"
     ]
    }
   ],
   "source": [
    "# RNAseq\n",
    "\n",
    "cell_exp_raw_CTRP_GDSC = pd.read_csv('data/CTRP_GDSC_data/cell_exp_raw.tsv', sep = '\\t')\n",
    "print(cell_exp_raw_CTRP_GDSC.shape)\n",
    "print(cell_exp_raw_CTRP_GDSC.head())\n",
    "stats = cell_exp_raw_CTRP_GDSC.iloc[:, 1:].agg(['min', 'max', 'median'])\n",
    "print(stats)\n"
   ]
  },
  {
   "cell_type": "code",
   "execution_count": 12,
   "id": "5406a914-4760-49eb-a3a1-e38173f36cfd",
   "metadata": {},
   "outputs": [
    {
     "name": "stdout",
     "output_type": "stream",
     "text": [
      "(1870, 17672)\n",
      "Nombre total de '1' dans toute la matrice mutation CTRP_GDSC : 3066782\n"
     ]
    }
   ],
   "source": [
    "# Mutation\n",
    "\n",
    "cell_mut_raw_CTRP_GDSC = pd.read_csv('data/CTRP_GDSC_data/cell_mut_raw.tsv', sep = '\\t')\n",
    "print(cell_mut_raw_CTRP_GDSC.shape)\n",
    "\n",
    "# Compter le nombre total de '1' dans toute la matrice\n",
    "total_ones = (cell_mut_raw_CTRP_GDSC == 1).sum().sum()\n",
    "\n",
    "print(f\"Nombre total de '1' dans toute la matrice mutation CTRP_GDSC : {total_ones}\")"
   ]
  },
  {
   "cell_type": "code",
   "execution_count": 13,
   "id": "6797f5b6-172d-41ab-a23e-b11938739956",
   "metadata": {},
   "outputs": [
    {
     "name": "stdout",
     "output_type": "stream",
     "text": [
      "(1298, 741)\n"
     ]
    }
   ],
   "source": [
    "# Drug matrix 1\n",
    "\n",
    "drug_screening_matrix_CTRP_GDSC = pd.read_csv('data/CTRP_GDSC_data/drug_screening_matrix_gdsc_ctrp.tsv', sep = '\\t')\n",
    "print(drug_screening_matrix_CTRP_GDSC.shape)\n",
    "#print(drug_screening_matrix_CTRP_GDSC.head())"
   ]
  },
  {
   "cell_type": "code",
   "execution_count": 14,
   "id": "df63d817-6bf6-4bcc-99ee-a16411604d80",
   "metadata": {},
   "outputs": [
    {
     "name": "stdout",
     "output_type": "stream",
     "text": [
      "(1742, 813)\n"
     ]
    }
   ],
   "source": [
    "# Drug matrix 2\n",
    "\n",
    "drug_screening_matrix_CTRP_GDSC_both = pd.read_csv('data/CTRP_GDSC_data/drug_screening_matrix_both.tsv', sep = '\\t')\n",
    "print(drug_screening_matrix_CTRP_GDSC_both.shape)\n",
    "#print(drug_screening_matrix_CTRP_GDSC_both.head())"
   ]
  },
  {
   "cell_type": "code",
   "execution_count": 15,
   "id": "3b804c53-d588-4a2a-a535-61980fc22d1f",
   "metadata": {},
   "outputs": [
    {
     "name": "stdout",
     "output_type": "stream",
     "text": [
      "(621166, 3)\n",
      "  COMPOUND_NAME CELL_LINE_NAME  Resistency/Sensitivity\n",
      "0        123138          22RV1                       0\n",
      "1        123138       23132-87                       0\n",
      "2        123138       42-MG-BA                       0\n",
      "3        123138           5637                       0\n",
      "4        123138          639-V                       0\n"
     ]
    }
   ],
   "source": [
    "# Drug table both (resistance / sensitivity)\n",
    "\n",
    "drug_screening_table_CTRP_GDSC = pd.read_csv('data/CTRP_GDSC_data/drug_screening_table_both.tsv', sep = '\\t')\n",
    "print(drug_screening_table_CTRP_GDSC.shape)\n",
    "print(drug_screening_table_CTRP_GDSC.head())"
   ]
  },
  {
   "cell_type": "markdown",
   "id": "d2104974-0942-4bbb-879b-7d35d36d5fa6",
   "metadata": {},
   "source": [
    "**CCLE DATASET**"
   ]
  },
  {
   "cell_type": "code",
   "execution_count": 16,
   "id": "6a001fdb-45c4-4740-8b10-1fd914c28159",
   "metadata": {},
   "outputs": [
    {
     "name": "stderr",
     "output_type": "stream",
     "text": [
      "C:\\Users\\camil\\AppData\\Local\\Temp\\ipykernel_23324\\1870129856.py:2: DtypeWarning: Columns (0) have mixed types. Specify dtype option on import or set low_memory=False.\n",
      "  cell_CN_raw_CCLE = pd.read_csv('data/CCLE_data/cell_CN_raw.tsv', sep = '\\t')\n"
     ]
    },
    {
     "name": "stdout",
     "output_type": "stream",
     "text": [
      "(1635, 23875)\n",
      "  cell_line_name  A1BG  A1CF  A2M  A2ML1  A2ML1-AS1  A2ML1-AS2  A3GALT2  \\\n",
      "0        1273/99     2     2    2      2          2          2        2   \n",
      "1           143B     2     2    2      2          2          2        2   \n",
      "2           201T     2     2    2      2          2          2        2   \n",
      "3          22Rv1     2     2    3      3          3          3        2   \n",
      "4       23132/87     2     2    2      2          2          2        2   \n",
      "\n",
      "   A4GALT  A4GNT  ...  ZWINT  ZXDA  ZXDB  ZXDC  ZYG11A  ZYG11AP1  ZYG11B  ZYX  \\\n",
      "0       2      2  ...      2     1     1     2       2         3       2    2   \n",
      "1       2      2  ...      2     1     1     2       2         2       2    2   \n",
      "2       2      2  ...      2     1     1     2       2         2       2    2   \n",
      "3       2      2  ...      2     1     1     2       2         2       2    3   \n",
      "4       2      2  ...      2     1     1     2       2         2       2    2   \n",
      "\n",
      "   ZZEF1  ZZZ3  \n",
      "0      1     2  \n",
      "1      3     2  \n",
      "2      1     2  \n",
      "3      2     2  \n",
      "4      2     2  \n",
      "\n",
      "[5 rows x 23875 columns]\n"
     ]
    }
   ],
   "source": [
    "# CN\n",
    "cell_CN_raw_CCLE = pd.read_csv('data/CCLE_data/cell_CN_raw.tsv', sep = '\\t')\n",
    "print(cell_CN_raw_CCLE.shape)\n",
    "print(cell_CN_raw_CCLE.head())"
   ]
  },
  {
   "cell_type": "code",
   "execution_count": 17,
   "id": "4fb061e0-85af-4b17-9648-1263deb5184d",
   "metadata": {},
   "outputs": [
    {
     "name": "stdout",
     "output_type": "stream",
     "text": [
      "(1406, 19222)\n",
      "  cell_line_name    TSPAN6      TNMD      DPM1     SCYL3  C1orf112       FGR  \\\n",
      "0     LC-1/sq-SF  4.331992  0.000000  7.364397  2.792855  4.470537  0.028569   \n",
      "1     COG-AR-359  4.566815  0.584963  7.106537  2.543496  3.504620  0.000000   \n",
      "2       Colo 794  3.150560  0.000000  7.379032  2.333424  4.227279  0.056584   \n",
      "3        KKU-213  5.085340  0.000000  7.154109  2.545968  3.084064  0.000000   \n",
      "4            RT4  6.729145  0.000000  6.537607  2.456806  3.867896  0.799087   \n",
      "\n",
      "        CFH     FUCA2      GCLC  ...      H3C2      H3C3  AC098582.1  \\\n",
      "0  1.226509  3.042644  6.499686  ...  2.689299  0.189034    0.201634   \n",
      "1  0.189034  3.813525  4.221104  ...  1.286881  1.049631    0.321928   \n",
      "2  1.310340  6.687061  3.682573  ...  0.594549  1.097611    0.831877   \n",
      "3  5.868143  6.165309  4.489928  ...  0.214125  0.632268    0.298658   \n",
      "4  7.208381  5.569856  7.127014  ...  1.117695  2.358959    0.084064   \n",
      "\n",
      "   DUS4L-BCAP29  C8orf44-SGK3  ELOA3B    NPBWR1  ELOA3D  ELOA3      CDR1  \n",
      "0      2.130931      0.555816     0.0  0.275007     0.0    0.0  0.000000  \n",
      "1      1.464668      0.632268     0.0  0.014355     0.0    0.0  0.000000  \n",
      "2      2.946731      0.475085     0.0  0.084064     0.0    0.0  0.042644  \n",
      "3      1.641546      0.443607     0.0  0.028569     0.0    0.0  0.000000  \n",
      "4      1.910733      0.000000     0.0  0.464668     0.0    0.0  0.000000  \n",
      "\n",
      "[5 rows x 19222 columns]\n"
     ]
    }
   ],
   "source": [
    "# RNA-seq\n",
    "\n",
    "cell_exp_raw_CCLE = pd.read_csv('data/CCLE_data/cell_exp_raw.tsv', sep = '\\t')\n",
    "print(cell_exp_raw_CCLE.shape)\n",
    "print(cell_exp_raw_CCLE.head())"
   ]
  },
  {
   "cell_type": "code",
   "execution_count": 18,
   "id": "cc464e7d-fd17-43cf-b8d9-c74a043d166b",
   "metadata": {},
   "outputs": [
    {
     "name": "stdout",
     "output_type": "stream",
     "text": [
      "(1699, 17672)\n",
      "  cell_line_name  A1BG  A1CF  A2M  A2ML1  A3GALT2  A4GALT  A4GNT  AAAS  AACS  \\\n",
      "0        1273/99     0     0    0      0        0       0      0     0     0   \n",
      "1           143B     0     0    0      0        0       0      0     0     0   \n",
      "2      170-MG-BA     0     0    0      1        0       0      0     0     0   \n",
      "3           201T     0     0    0      0        0       0      0     0     0   \n",
      "4           21NT     0     0    0      1        0       0      0     0     0   \n",
      "\n",
      "   ...  ZWILCH  ZWINT  ZXDA  ZXDB  ZXDC  ZYG11A  ZYG11B  ZYX  ZZEF1  ZZZ3  \n",
      "0  ...       0      0     0     0     0       0       0    0      0     0  \n",
      "1  ...       0      0     0     0     0       0       0    0      0     0  \n",
      "2  ...       0      0     0     0     0       0       0    0      0     0  \n",
      "3  ...       0      0     0     0     0       0       1    0      0     0  \n",
      "4  ...       0      0     0     0     0       0       0    0      0     0  \n",
      "\n",
      "[5 rows x 17672 columns]\n",
      "Nombre total de '1' dans toute la matrice mutation CCLE : 943575\n"
     ]
    }
   ],
   "source": [
    "# Mutation\n",
    "\n",
    "cell_mut_raw_CCLE = pd.read_csv('data/CCLE_data/cell_mut_raw.tsv', sep = '\\t')\n",
    "print(cell_mut_raw_CCLE.shape)\n",
    "print(cell_mut_raw_CCLE.head())\n",
    "\n",
    "# Compter le nombre total de '1' dans toute la matrice\n",
    "total_ones = (cell_mut_raw_CCLE == 1).sum().sum()\n",
    "\n",
    "print(f\"Nombre total de '1' dans toute la matrice mutation CCLE : {total_ones}\")"
   ]
  },
  {
   "cell_type": "code",
   "execution_count": 19,
   "id": "5318e417-b9ea-4eb3-b6e2-5bafea5968b4",
   "metadata": {},
   "outputs": [
    {
     "name": "stdout",
     "output_type": "stream",
     "text": [
      "(504, 25)\n",
      "  CELL_LINE_NAME  17-AAG  AEW541  Saracatinib  selumetinib  Erlotinib  \\\n",
      "0         1321N1     0.0     0.0            0          0.0        0.0   \n",
      "1          22Rv1     0.0     0.0            0          0.0        0.0   \n",
      "2       42-MG-BA     0.0     0.0            0          0.0        0.0   \n",
      "3           5637     0.0     0.0            0          0.0       -1.0   \n",
      "4          639-V     0.0     0.0            0          0.0        0.0   \n",
      "\n",
      "   Irinotecan  L-685458  LBW242  Lapatinib  ...  PHA-665752  PLX4720  \\\n",
      "0         NaN       0.0     0.0          0  ...         0.0      0.0   \n",
      "1         0.0       0.0     0.0          0  ...         0.0      0.0   \n",
      "2         NaN      -1.0     0.0          0  ...         0.0      0.0   \n",
      "3         0.0       0.0     0.0          0  ...         0.0     -1.0   \n",
      "4         0.0       0.0     0.0          0  ...         0.0      0.0   \n",
      "\n",
      "   Paclitaxel  Panobinostat  RAF265  Sorafenib  TAE684  TKI258  Topotecan  \\\n",
      "0         0.0           0.0     0.0        0.0       0       0          0   \n",
      "1         0.0           0.0     0.0        0.0       0       0          0   \n",
      "2         0.0           0.0     NaN        0.0       0      -1          0   \n",
      "3         0.0           0.0     0.0        0.0       0       0          0   \n",
      "4         0.0           0.0     0.0        0.0       0       0          0   \n",
      "\n",
      "   ZD-6474  \n",
      "0      0.0  \n",
      "1      0.0  \n",
      "2      0.0  \n",
      "3      0.0  \n",
      "4      0.0  \n",
      "\n",
      "[5 rows x 25 columns]\n"
     ]
    }
   ],
   "source": [
    "# Drug matrix 1\n",
    "\n",
    "drug_screening_CCLE = pd.read_csv('data/CCLE_data/drug_screening.tsv', sep = '\\t')\n",
    "print(drug_screening_CCLE.shape)\n",
    "print(drug_screening_CCLE.head())"
   ]
  },
  {
   "cell_type": "code",
   "execution_count": 20,
   "id": "278c84d2-4527-4cc0-ad6b-f4fd6f6c7981",
   "metadata": {},
   "outputs": [
    {
     "name": "stdout",
     "output_type": "stream",
     "text": [
      "(504, 25)\n",
      "  CELL_LINE_NAME  AEW541  Nilotinib  17-AAG  PHA-665752  Lapatinib  Nutlin-3  \\\n",
      "0         1321N1     0.0        NaN    -1.0         1.0          1         1   \n",
      "1          22Rv1     0.0        1.0    -1.0         0.0          0         0   \n",
      "2       42-MG-BA     0.0        NaN    -1.0         0.0          0         0   \n",
      "3           5637     0.0        0.0    -1.0         1.0          0         1   \n",
      "4          639-V     0.0        0.0    -1.0         1.0          1         1   \n",
      "\n",
      "   AZD0530  PF2341066  L-685458  ...  LBW242  PD-0325901  PD-0332991  \\\n",
      "0        0          1       1.0  ...     1.0           0         NaN   \n",
      "1        0          0       1.0  ...     1.0          -1         0.0   \n",
      "2        0          0       0.0  ...     0.0           0         NaN   \n",
      "3        0          1       1.0  ...     1.0           0         1.0   \n",
      "4        0          0       1.0  ...     1.0          -1         0.0   \n",
      "\n",
      "   Paclitaxel  AZD6244  PLX4720  RAF265  TAE684  TKI258  Erlotinib  \n",
      "0        -1.0      1.0      1.0     0.0       0       0        1.0  \n",
      "1        -1.0     -1.0      0.0     0.0       0       0        1.0  \n",
      "2        -1.0      0.0      0.0     NaN       0       0        0.0  \n",
      "3        -1.0      0.0      0.0     0.0       0       0        0.0  \n",
      "4        -1.0      0.0      1.0     0.0       0       0        1.0  \n",
      "\n",
      "[5 rows x 25 columns]\n"
     ]
    }
   ],
   "source": [
    "# Drug matrix 2\n",
    "\n",
    "drug_screening_matrix_CCLE = pd.read_csv('data/CCLE_data/drug_screening_matrix_ccle.tsv', sep = '\\t')\n",
    "print(drug_screening_matrix_CCLE.shape)\n",
    "print(drug_screening_matrix_CCLE.head())"
   ]
  },
  {
   "cell_type": "markdown",
   "id": "28b6f877-2c86-46ae-bd86-681bcdac4d25",
   "metadata": {},
   "source": [
    "**TCGA DATASET**"
   ]
  },
  {
   "cell_type": "code",
   "execution_count": 21,
   "id": "433d90dc-8da1-4a96-abd3-a35695e9d23c",
   "metadata": {},
   "outputs": [
    {
     "name": "stdout",
     "output_type": "stream",
     "text": [
      "(714, 17737)\n",
      "              TSPAN6_cell_exp  TNMD_cell_exp  DPM1_cell_exp  SCYL3_cell_exp  \\\n",
      "TCGA-OR-A5JM         6.695330      -0.841647       6.719034        5.485119   \n",
      "TCGA-PK-A5HB         6.828514      -0.913794       6.900512        5.577564   \n",
      "TCGA-OU-A5PI         6.092254      -0.561943       7.001821        4.776840   \n",
      "TCGA-FJ-A871         7.717533      -0.818710       6.880711        5.984616   \n",
      "TCGA-DK-A6B5         6.965956       0.000000       7.290509        5.852050   \n",
      "\n",
      "              C1orf112_cell_exp  FGR_cell_exp  CFH_cell_exp  FUCA2_cell_exp  \\\n",
      "TCGA-OR-A5JM           5.576308      3.029636      4.538330        8.339653   \n",
      "TCGA-PK-A5HB           5.214116      2.957314      5.776955        7.667031   \n",
      "TCGA-OU-A5PI           3.639056      3.700781      6.816485        6.507975   \n",
      "TCGA-FJ-A871           6.048453      5.078476      6.629073        6.467514   \n",
      "TCGA-DK-A6B5           5.424132      6.359820      7.441922        7.309692   \n",
      "\n",
      "              GCLC_cell_exp  NFYA_cell_exp  ...  LINC00526_cell_exp  \\\n",
      "TCGA-OR-A5JM       6.819960       6.942906  ...                   0   \n",
      "TCGA-PK-A5HB       7.275634       6.591604  ...                   0   \n",
      "TCGA-OU-A5PI       6.588018       6.137601  ...                   0   \n",
      "TCGA-FJ-A871       6.423404       6.575182  ...                   0   \n",
      "TCGA-DK-A6B5       7.888162       6.418861  ...                   0   \n",
      "\n",
      "              PPY2_cell_exp  Unnamed: 17729_cell_exp  Unnamed: 17730_cell_exp  \\\n",
      "TCGA-OR-A5JM       0.000000                        0                        0   \n",
      "TCGA-PK-A5HB       0.000000                        0                        0   \n",
      "TCGA-OU-A5PI       0.000000                        0                        0   \n",
      "TCGA-FJ-A871       2.582517                        0                        0   \n",
      "TCGA-DK-A6B5      -1.084414                        0                        0   \n",
      "\n",
      "              KRT18P55_cell_exp  Unnamed: 17732_cell_exp  POLRMTP1_cell_exp  \\\n",
      "TCGA-OR-A5JM                  0                        0                  0   \n",
      "TCGA-PK-A5HB                  0                        0                  0   \n",
      "TCGA-OU-A5PI                  0                        0                  0   \n",
      "TCGA-FJ-A871                  0                        0                  0   \n",
      "TCGA-DK-A6B5                  0                        0                  0   \n",
      "\n",
      "              UBL5P2_cell_exp  TBC1D3P5_cell_exp  Unnamed: 17736_cell_exp  \n",
      "TCGA-OR-A5JM                0                  0                        0  \n",
      "TCGA-PK-A5HB                0                  0                        0  \n",
      "TCGA-OU-A5PI                0                  0                        0  \n",
      "TCGA-FJ-A871                0                  0                        0  \n",
      "TCGA-DK-A6B5                0                  0                        0  \n",
      "\n",
      "[5 rows x 17737 columns]\n"
     ]
    }
   ],
   "source": [
    "# RNAseq\n",
    "\n",
    "patient_exp_TCGA = pd.read_parquet(\"data/TCGA_data/cell_exp_raw.gzip\")\n",
    "print(patient_exp_TCGA.shape)\n",
    "print(patient_exp_TCGA.head())\n",
    "\n",
    "first_column_df = patient_exp_TCGA.index.to_frame(index=False, name='TCGA_ID')\n",
    "first_column_df.to_csv(\"TCGA_IDs.csv\", index=False)\n"
   ]
  },
  {
   "cell_type": "code",
   "execution_count": 22,
   "id": "f39219e3-d8fe-4a2c-82ab-f7b2b6e66e39",
   "metadata": {},
   "outputs": [
    {
     "name": "stdout",
     "output_type": "stream",
     "text": [
      "(82, 19100)\n",
      "             A1BG_cell_mut A1CF_cell_mut A2M_cell_mut A2ML1_cell_mut  \\\n",
      "TCGA-EW-A1OY             0             0            0              0   \n",
      "TCGA-LL-A73Z             0             0            0              0   \n",
      "TCGA-A7-A6VY             0             0            0              0   \n",
      "TCGA-BH-A5IZ             0             0            0              0   \n",
      "TCGA-GM-A4E0             0             0            0              0   \n",
      "\n",
      "             A4D226_cell_mut A4GALT_cell_mut A4GNT_cell_mut AAAS_cell_mut  \\\n",
      "TCGA-EW-A1OY               0               0              0             0   \n",
      "TCGA-LL-A73Z               0               0              0             0   \n",
      "TCGA-A7-A6VY               0               0              0             0   \n",
      "TCGA-BH-A5IZ               0               0              0             0   \n",
      "TCGA-GM-A4E0               0               0              0             0   \n",
      "\n",
      "             AACS_cell_mut AADAC_cell_mut  ... ZWILCH_cell_mut ZWINT_cell_mut  \\\n",
      "TCGA-EW-A1OY             0              0  ...               0              0   \n",
      "TCGA-LL-A73Z             0              0  ...               0              0   \n",
      "TCGA-A7-A6VY             0              0  ...               0              0   \n",
      "TCGA-BH-A5IZ             0              0  ...               0              0   \n",
      "TCGA-GM-A4E0             0              0  ...               0              0   \n",
      "\n",
      "             ZXDA_cell_mut ZXDB_cell_mut ZXDC_cell_mut ZYG11A_cell_mut  \\\n",
      "TCGA-EW-A1OY             0             0             0               0   \n",
      "TCGA-LL-A73Z             0             0             0               0   \n",
      "TCGA-A7-A6VY             0             0             0               0   \n",
      "TCGA-BH-A5IZ             0             0             0               0   \n",
      "TCGA-GM-A4E0             0             0             0               0   \n",
      "\n",
      "             ZYG11B_cell_mut ZYX_cell_mut ZZEF1_cell_mut ZZZ3_cell_mut  \n",
      "TCGA-EW-A1OY               0            0              0             0  \n",
      "TCGA-LL-A73Z               0            0              0             0  \n",
      "TCGA-A7-A6VY               0            0              0             0  \n",
      "TCGA-BH-A5IZ               0            0              0             0  \n",
      "TCGA-GM-A4E0               0            0              0             0  \n",
      "\n",
      "[5 rows x 19100 columns]\n",
      "Nombre total de '1' dans toute la matrice mutation TCGA : 0\n"
     ]
    }
   ],
   "source": [
    "# Mutation\n",
    "\n",
    "patient_mut_TCGA = pd.read_parquet(\"data/TCGA_data/cell_mut_raw.gzip\")\n",
    "print(patient_mut_TCGA.shape)\n",
    "print(patient_mut_TCGA.head())\n",
    "\n",
    "# Compter le nombre total de '1' dans toute la matrice\n",
    "total_ones = (patient_mut_TCGA == 1).sum().sum()\n",
    "\n",
    "print(f\"Nombre total de '1' dans toute la matrice mutation TCGA : {total_ones}\")\n",
    "\n",
    "# Extraire les noms des gènes (en-tête)\n",
    "gene_names = patient_mut_TCGA.columns\n",
    "\n",
    "# Nettoyer les noms en supprimant '_cell_mut'\n",
    "cleaned_gene_names = [name.replace('_cell_mut', '') for name in gene_names]\n",
    "\n",
    "# Convertir en DataFrame (une ligne, chaque gène dans une colonne)\n",
    "gene_list_mut_TCGA = pd.DataFrame([cleaned_gene_names])\n",
    "\n",
    "# Sauvegarder dans un fichier CSV\n",
    "gene_list_mut_TCGA.to_csv(\"TCGA_mutation_gene_list.csv\", index=False, header=False)"
   ]
  },
  {
   "cell_type": "code",
   "execution_count": 23,
   "id": "8a95e35f-4102-410e-9c2c-87ab308f3bf2",
   "metadata": {},
   "outputs": [
    {
     "name": "stdout",
     "output_type": "stream",
     "text": [
      "Shape de mon fichier mutation TCGA : (664, 15009)\n",
      "                     A1BG_cell_mut  A1CF_cell_mut  A2M_cell_mut  \\\n",
      "entity_submitter_id                                               \n",
      "TCGA-05-4384                     0              0             0   \n",
      "TCGA-05-4390                     0              0             0   \n",
      "TCGA-05-4398                     0              0             0   \n",
      "TCGA-05-4402                     0              0             1   \n",
      "TCGA-05-4427                     0              0             0   \n",
      "\n",
      "                     A2ML1_cell_mut  A4GALT_cell_mut  A4GNT_cell_mut  \\\n",
      "entity_submitter_id                                                    \n",
      "TCGA-05-4384                      0                0               0   \n",
      "TCGA-05-4390                      0                0               0   \n",
      "TCGA-05-4398                      0                0               0   \n",
      "TCGA-05-4402                      0                0               0   \n",
      "TCGA-05-4427                      0                0               0   \n",
      "\n",
      "                     AAAS_cell_mut  AACS_cell_mut  AADAC_cell_mut  \\\n",
      "entity_submitter_id                                                 \n",
      "TCGA-05-4384                     0              0               0   \n",
      "TCGA-05-4390                     0              0               0   \n",
      "TCGA-05-4398                     0              0               0   \n",
      "TCGA-05-4402                     0              0               0   \n",
      "TCGA-05-4427                     0              0               0   \n",
      "\n",
      "                     AADACL2_cell_mut  ...  ZW10_cell_mut  ZWILCH_cell_mut  \\\n",
      "entity_submitter_id                    ...                                   \n",
      "TCGA-05-4384                        0  ...              0                0   \n",
      "TCGA-05-4390                        0  ...              0                1   \n",
      "TCGA-05-4398                        0  ...              0                0   \n",
      "TCGA-05-4402                        0  ...              0                0   \n",
      "TCGA-05-4427                        0  ...              0                0   \n",
      "\n",
      "                     ZWINT_cell_mut  ZXDA_cell_mut  ZXDB_cell_mut  \\\n",
      "entity_submitter_id                                                 \n",
      "TCGA-05-4384                      0              0              0   \n",
      "TCGA-05-4390                      0              0              1   \n",
      "TCGA-05-4398                      0              0              0   \n",
      "TCGA-05-4402                      0              0              0   \n",
      "TCGA-05-4427                      1              1              0   \n",
      "\n",
      "                     ZXDC_cell_mut  ZYG11B_cell_mut  ZYX_cell_mut  \\\n",
      "entity_submitter_id                                                 \n",
      "TCGA-05-4384                     0                0             0   \n",
      "TCGA-05-4390                     0                0             0   \n",
      "TCGA-05-4398                     0                0             0   \n",
      "TCGA-05-4402                     0                0             0   \n",
      "TCGA-05-4427                     0                0             0   \n",
      "\n",
      "                     ZZEF1_cell_mut  ZZZ3_cell_mut  \n",
      "entity_submitter_id                                 \n",
      "TCGA-05-4384                      0              0  \n",
      "TCGA-05-4390                      0              0  \n",
      "TCGA-05-4398                      0              0  \n",
      "TCGA-05-4402                      0              0  \n",
      "TCGA-05-4427                      0              0  \n",
      "\n",
      "[5 rows x 15009 columns]\n",
      " Nombre total de '1' (mutation présente) : 82630\n",
      " Nombre total de '0' (aucune mutation) : 9883346\n"
     ]
    }
   ],
   "source": [
    "# My generated TCGA mutation file:\n",
    "\n",
    "# Charger le fichier TSV généré précédemment\n",
    "patient_mut_TCGA = pd.read_csv(\"C:/Users/camil/IMAG/DeepDRA/TCGA_data/TCGA_data/cell_mut_raw.tsv\", sep=\"\\t\", index_col=0)\n",
    "\n",
    "# Afficher les dimensions et les premières lignes\n",
    "print(f\"Shape de mon fichier mutation TCGA : {patient_mut_TCGA.shape}\")\n",
    "print(patient_mut_TCGA.head())\n",
    "\n",
    "# Compter le nombre total de '1' et de '0' dans toute la matrice\n",
    "total_ones = (patient_mut_TCGA == 1).sum().sum()\n",
    "total_zeros = (patient_mut_TCGA == 0).sum().sum()\n",
    "\n",
    "print(f\" Nombre total de '1' (mutation présente) : {total_ones}\")\n",
    "print(f\" Nombre total de '0' (aucune mutation) : {total_zeros}\")"
   ]
  },
  {
   "cell_type": "code",
   "execution_count": 24,
   "id": "39e8f394-a8ad-443a-b3d8-a1e6f0736324",
   "metadata": {},
   "outputs": [
    {
     "name": "stdout",
     "output_type": "stream",
     "text": [
      " Nombre de patients communs dans les deux fichiers : 664\n"
     ]
    }
   ],
   "source": [
    "# Charger les index (patients) depuis les deux fichiers : cell_exp & cell_mut de TCGA\n",
    "index_1 = pd.read_parquet(\"data/TCGA_data/cell_exp_raw.gzip\").index\n",
    "index_2 = pd.read_csv(\"C:/Users/camil/IMAG/DeepDRA/TCGA_data/TCGA_data/cell_mut_raw.tsv\", sep=\"\\t\", index_col=0).index\n",
    "\n",
    "# Intersection des identifiants\n",
    "common_ids = index_1.intersection(index_2)\n",
    "\n",
    "# Afficher le résultat\n",
    "print(f\" Nombre de patients communs dans les deux fichiers : {len(common_ids)}\")\n"
   ]
  },
  {
   "cell_type": "code",
   "execution_count": 25,
   "id": "a8dcc753-0fe4-4a6e-8d0d-7ebd8d05d39c",
   "metadata": {},
   "outputs": [
    {
     "name": "stdout",
     "output_type": "stream",
     "text": [
      "(1197, 153)\n",
      "     Unnamed: 0  Sunitinib  Ketoconazole  Etoposide  Doxorubicin  Cisplatin  \\\n",
      "0  TCGA-OR-A5JM        1.0           1.0        0.0          0.0        0.0   \n",
      "1  TCGA-OU-A5PI        0.0           0.0        1.0          1.0        1.0   \n",
      "2  TCGA-PK-A5HB        0.0           0.0        0.0          0.0        0.0   \n",
      "3  TCGA-G2-A2EC        0.0           0.0        0.0         -1.0       -1.0   \n",
      "4  TCGA-G2-A2EJ        0.0           0.0        0.0          0.0        1.0   \n",
      "\n",
      "   Mitotane  Carboplatin  Streptozocin  Bevacizumab  ...  Didox  Copolang  \\\n",
      "0       0.0          0.0           0.0          0.0  ...    0.0       0.0   \n",
      "1       1.0          1.0           1.0          1.0  ...    0.0       0.0   \n",
      "2       0.0          0.0           0.0          0.0  ...    0.0       0.0   \n",
      "3       0.0          0.0           0.0         -1.0  ...    0.0       0.0   \n",
      "4       0.0          0.0           0.0          0.0  ...    0.0       0.0   \n",
      "\n",
      "   Eribulin  Methylprednisolone  COPOLANG CAPS  \\\n",
      "0       0.0                 0.0            0.0   \n",
      "1       0.0                 0.0            0.0   \n",
      "2       0.0                 0.0            0.0   \n",
      "3       0.0                 0.0            0.0   \n",
      "4       0.0                 0.0            0.0   \n",
      "\n",
      "   tegafur-gimeracil-oteracil potassium  Ifosfamid  Gemox  Levothyroxine  \\\n",
      "0                                   0.0        0.0    0.0            0.0   \n",
      "1                                   0.0        0.0    0.0            0.0   \n",
      "2                                   0.0        0.0    0.0            0.0   \n",
      "3                                   0.0        0.0    0.0            0.0   \n",
      "4                                   0.0        0.0    0.0            0.0   \n",
      "\n",
      "   Liothyronine  \n",
      "0           0.0  \n",
      "1           0.0  \n",
      "2           0.0  \n",
      "3           0.0  \n",
      "4           0.0  \n",
      "\n",
      "[5 rows x 153 columns]\n"
     ]
    }
   ],
   "source": [
    "# Drug matrix\n",
    "\n",
    "screening_matrix_TCGA = pd.read_csv('data/TCGA_data/TCGA_screening_matrix.tsv', sep = '\\t')\n",
    "print(screening_matrix_TCGA.shape)\n",
    "print(screening_matrix_TCGA.head())"
   ]
  },
  {
   "cell_type": "code",
   "execution_count": null,
   "id": "e7c3566b-9b7a-4f6e-8a0f-d05b77a7948f",
   "metadata": {},
   "outputs": [],
   "source": []
  }
 ],
 "metadata": {
  "kernelspec": {
   "display_name": "Python 3 (ipykernel)",
   "language": "python",
   "name": "python3"
  },
  "language_info": {
   "codemirror_mode": {
    "name": "ipython",
    "version": 3
   },
   "file_extension": ".py",
   "mimetype": "text/x-python",
   "name": "python",
   "nbconvert_exporter": "python",
   "pygments_lexer": "ipython3",
   "version": "3.10.2"
  }
 },
 "nbformat": 4,
 "nbformat_minor": 5
}
