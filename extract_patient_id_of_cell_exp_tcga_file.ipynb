{
 "cells": [
  {
   "cell_type": "code",
   "execution_count": 1,
   "id": "d130e5c3-747e-4808-b831-ce3dec9c2bc2",
   "metadata": {},
   "outputs": [
    {
     "name": "stdout",
     "output_type": "stream",
     "text": [
      " Nombre total de patients : 714\n",
      "Saved file : TCGA_cell_exp_sample_ids.txt\n"
     ]
    }
   ],
   "source": [
    "import pandas as pd\n",
    "\n",
    "# Charger le fichier expression brute (gzip)\n",
    "df_exp = pd.read_parquet(\"data/TCGA_data/cell_exp_raw.gzip\")\n",
    "\n",
    "# Extraire les identifiants\n",
    "patient_ids = df_exp.index.tolist()\n",
    "\n",
    "print(f\" Nombre total de patients : {len(patient_ids)}\")\n",
    "\n",
    "# Sauvegarder la liste dans un fichier texte (un ID par ligne)\n",
    "with open(\"TCGA_cell_exp_sample_ids.txt\", \"w\") as f:\n",
    "    for pid in patient_ids:\n",
    "        f.write(f\"{pid}\\n\")\n",
    "\n",
    "print(\"Saved file : TCGA_cell_exp_sample_ids.txt\")\n"
   ]
  },
  {
   "cell_type": "code",
   "execution_count": null,
   "id": "775de9ff-4de2-46bc-9335-e0ac8fd7c576",
   "metadata": {},
   "outputs": [],
   "source": []
  }
 ],
 "metadata": {
  "kernelspec": {
   "display_name": "Python 3 (ipykernel)",
   "language": "python",
   "name": "python3"
  },
  "language_info": {
   "codemirror_mode": {
    "name": "ipython",
    "version": 3
   },
   "file_extension": ".py",
   "mimetype": "text/x-python",
   "name": "python",
   "nbconvert_exporter": "python",
   "pygments_lexer": "ipython3",
   "version": "3.10.2"
  }
 },
 "nbformat": 4,
 "nbformat_minor": 5
}
