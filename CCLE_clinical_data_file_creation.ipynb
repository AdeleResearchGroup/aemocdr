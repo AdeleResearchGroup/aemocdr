{
 "cells": [
  {
   "cell_type": "markdown",
   "id": "df541804-f3d8-40dc-9313-a22220dd4a91",
   "metadata": {},
   "source": [
    "**LIGNÉES CELLULAIRES COMMUNES DANS LES DIFFÉRENTS FICHIERS DU DATASET CCLE**"
   ]
  },
  {
   "cell_type": "code",
   "execution_count": 1,
   "id": "1c8c9741-4d6e-4af0-819c-eff2711654cd",
   "metadata": {},
   "outputs": [
    {
     "name": "stdout",
     "output_type": "stream",
     "text": [
      "Nombre de lignées cellulaires présentes dans tous les fichiers : 459\n",
      "Fichier sauvegardé dans 'unique_cell_lines_per_file.tsv'\n"
     ]
    }
   ],
   "source": [
    "import pandas as pd\n",
    "from functools import reduce\n",
    "\n",
    "# Liste des fichiers et des noms de colonnes à extraire\n",
    "files = [\n",
    "    \"cell_CN_raw.tsv\",\n",
    "    \"cell_exp_raw.tsv\",\n",
    "    \"cell_mut_raw.tsv\",\n",
    "    \"drug_screening_matrix_ccle.tsv\",\n",
    "    \"drug_screening.tsv\"\n",
    "]\n",
    "\n",
    "# Dictionnaire pour stocker les ensembles de noms de lignées cellulaires\n",
    "cell_lines_sets = {}\n",
    "\n",
    "# Lecture des fichiers et extraction des noms de lignées cellulaires\n",
    "for file in files:\n",
    "    try:\n",
    "        df = pd.read_csv(file, sep=\"\\t\", dtype=str, low_memory=False)  # Correction ici\n",
    "        column_name = \"CELL_LINE_NAME\" if \"CELL_LINE_NAME\" in df.columns else \"cell_line_name\"\n",
    "        if column_name in df.columns:\n",
    "            cell_lines_sets[file] = set(df[column_name].dropna().unique())\n",
    "        else:\n",
    "            print(f\"Warning: Column 'cell_line_name' or 'CELL_LINE_NAME' not found in {file}\")\n",
    "    except Exception as e:\n",
    "        print(f\"Error reading {file}: {e}\")\n",
    "\n",
    "# Trouver toutes les lignées cellulaires uniques\n",
    "all_unique_cell_lines = sorted(set().union(*cell_lines_sets.values()))\n",
    "\n",
    "# Création du DataFrame\n",
    "unique_cell_lines_df = pd.DataFrame({\"Cell_Line\": all_unique_cell_lines})\n",
    "\n",
    "# Ajout d'une colonne indiquant la présence de chaque lignée dans chaque fichier\n",
    "for file in files:\n",
    "    unique_cell_lines_df[file] = unique_cell_lines_df[\"Cell_Line\"].apply(lambda x: x in cell_lines_sets.get(file, set()))\n",
    "\n",
    "# Trouver le nombre de lignées cellulaires présentes dans tous les fichiers\n",
    "if cell_lines_sets:\n",
    "    common_cell_lines = set.intersection(*cell_lines_sets.values())\n",
    "    print(f\"Nombre de lignées cellulaires présentes dans tous les fichiers : {len(common_cell_lines)}\")\n",
    "\n",
    "# Enregistrement des résultats dans un fichier\n",
    "unique_cell_lines_df.to_csv(\"unique_cell_lines_per_file.tsv\", sep=\"\\t\", index=False)\n",
    "print(\"Fichier sauvegardé dans 'unique_cell_lines_per_file.tsv'\")\n"
   ]
  },
  {
   "cell_type": "markdown",
   "id": "a352cead-af1c-429f-ba80-2bdda073820a",
   "metadata": {},
   "source": [
    "**VERIFICATION**"
   ]
  },
  {
   "cell_type": "code",
   "execution_count": 2,
   "id": "02c3d8ff-1420-4951-af72-0a93d5546ab4",
   "metadata": {},
   "outputs": [
    {
     "name": "stdout",
     "output_type": "stream",
     "text": [
      "Nombre de lignées cellulaires présentes dans tous les fichiers selon le fichier sauvegardé : 459\n"
     ]
    }
   ],
   "source": [
    "# Chargement du fichier généré\n",
    "loaded_df = pd.read_csv(\"unique_cell_lines_per_file.tsv\", sep=\"\\t\", dtype=str)\n",
    "\n",
    "# Comptabilisation des lignées cellulaires présentes dans tous les fichiers\n",
    "matching_rows = loaded_df[(loaded_df[files] == \"True\").all(axis=1)]\n",
    "matching_count = len(matching_rows)\n",
    "\n",
    "# Affichage du résultat\n",
    "print(f\"Nombre de lignées cellulaires présentes dans tous les fichiers selon le fichier sauvegardé : {matching_count}\")"
   ]
  },
  {
   "cell_type": "markdown",
   "id": "ecc97876-6c0f-4781-a592-68f465cb35c9",
   "metadata": {},
   "source": [
    "**MATCHS AVEC DONNÉES PHENOTYPIQUES CCLE**"
   ]
  },
  {
   "cell_type": "code",
   "execution_count": 3,
   "id": "0070f094-dbd0-4ef4-b1cc-a7a597c8602d",
   "metadata": {},
   "outputs": [
    {
     "name": "stdout",
     "output_type": "stream",
     "text": [
      "Nombre de correspondances entre 'CCLE_ID' et 'Cell_Line' : 999\n"
     ]
    }
   ],
   "source": [
    "# Chargement du fichier des annotations\n",
    "annotations_df = pd.read_csv(r\"C:\\\\Users\\\\camil\\\\IMAG\\\\CJC\\\\data\\\\Cell_lines_annotations_20181226.csv\", dtype=str)\n",
    "\n",
    "# Comparaison entre 'CCLE_ID' et 'Cell_Line'\n",
    "matches = loaded_df['Cell_Line'].isin(annotations_df['Name'])\n",
    "match_count = matches.sum()\n",
    "\n",
    "# Affichage du résultat\n",
    "print(f\"Nombre de correspondances entre 'CCLE_ID' et 'Cell_Line' : {match_count}\")"
   ]
  },
  {
   "cell_type": "code",
   "execution_count": 4,
   "id": "aed99854-594a-47a9-89b8-8efa4d238aae",
   "metadata": {},
   "outputs": [],
   "source": [
    "# Filtrage des lignées cellulaires correspondantes\n",
    "matched_cell_lines = loaded_df[matches][['Cell_Line']]\n",
    "\n",
    "# Sélection des colonnes d'intérêt\n",
    "columns_of_interest = [\"Name\", \"Pathology\", \"Site_Primary\", \"Histology\", \"Hist_Subtype1\", \"type\", \"type_refined\", \"tcga_code\", \"Gender\", \"Age\", \"Race\", \"Disease\"]\n",
    "\n",
    "# Fusion des données\n",
    "final_df = matched_cell_lines.merge(annotations_df[columns_of_interest], left_on='Cell_Line', right_on='Name', how='left').drop(columns=['Name'])\n",
    "\n",
    "# Suppression des colonnes de présence des fichiers sources\n",
    "final_df = final_df.drop(columns=[col for col in files if col in final_df.columns], errors='ignore')\n",
    "\n",
    "# Enregistrement des résultats dans un fichier\n",
    "final_df.to_csv(\"matched_cell_lines_annotations.tsv\", sep=\"\\t\", index=False)"
   ]
  },
  {
   "cell_type": "code",
   "execution_count": null,
   "id": "740aa9d8-acf1-49fa-8c2a-19d7f69e3c66",
   "metadata": {},
   "outputs": [],
   "source": []
  }
 ],
 "metadata": {
  "kernelspec": {
   "display_name": "Python 3 (ipykernel)",
   "language": "python",
   "name": "python3"
  },
  "language_info": {
   "codemirror_mode": {
    "name": "ipython",
    "version": 3
   },
   "file_extension": ".py",
   "mimetype": "text/x-python",
   "name": "python",
   "nbconvert_exporter": "python",
   "pygments_lexer": "ipython3",
   "version": "3.10.2"
  }
 },
 "nbformat": 4,
 "nbformat_minor": 5
}
